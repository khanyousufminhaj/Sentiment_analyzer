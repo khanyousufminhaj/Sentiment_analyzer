{
 "cells": [
  {
   "cell_type": "code",
   "execution_count": 24,
   "id": "b4a25de7",
   "metadata": {},
   "outputs": [
    {
     "name": "stdout",
     "output_type": "stream",
     "text": [
      "Requirement already satisfied: scikit-learn in c:\\users\\imkha\\anaconda3\\lib\\site-packages (1.3.0)\n",
      "Collecting scikit-learn\n",
      "  Obtaining dependency information for scikit-learn from https://files.pythonhosted.org/packages/7b/0e/25d6b5678ed3c7e12bc94d047d0e9492e89cc78b7ea0034ac0f1cf2ff304/scikit_learn-1.4.1.post1-cp311-cp311-win_amd64.whl.metadata\n",
      "  Downloading scikit_learn-1.4.1.post1-cp311-cp311-win_amd64.whl.metadata (11 kB)\n",
      "Requirement already satisfied: numpy<2.0,>=1.19.5 in c:\\users\\imkha\\anaconda3\\lib\\site-packages (from scikit-learn) (1.24.3)\n",
      "Requirement already satisfied: scipy>=1.6.0 in c:\\users\\imkha\\anaconda3\\lib\\site-packages (from scikit-learn) (1.11.1)\n",
      "Requirement already satisfied: joblib>=1.2.0 in c:\\users\\imkha\\anaconda3\\lib\\site-packages (from scikit-learn) (1.2.0)\n",
      "Requirement already satisfied: threadpoolctl>=2.0.0 in c:\\users\\imkha\\anaconda3\\lib\\site-packages (from scikit-learn) (2.2.0)\n",
      "Downloading scikit_learn-1.4.1.post1-cp311-cp311-win_amd64.whl (10.6 MB)\n",
      "   ---------------------------------------- 0.0/10.6 MB ? eta -:--:--\n",
      "   ---------------------------------------- 0.0/10.6 MB ? eta -:--:--\n",
      "   ---------------------------------------- 0.0/10.6 MB 495.5 kB/s eta 0:00:22\n",
      "   ---------------------------------------- 0.1/10.6 MB 939.4 kB/s eta 0:00:12\n",
      "    --------------------------------------- 0.2/10.6 MB 1.1 MB/s eta 0:00:10\n",
      "   - -------------------------------------- 0.3/10.6 MB 1.4 MB/s eta 0:00:08\n",
      "   - -------------------------------------- 0.4/10.6 MB 1.6 MB/s eta 0:00:07\n",
      "   -- ------------------------------------- 0.6/10.6 MB 2.0 MB/s eta 0:00:06\n",
      "   -- ------------------------------------- 0.7/10.6 MB 2.0 MB/s eta 0:00:06\n",
      "   --- ------------------------------------ 1.0/10.6 MB 2.4 MB/s eta 0:00:05\n",
      "   --- ------------------------------------ 1.0/10.6 MB 2.3 MB/s eta 0:00:05\n",
      "   ---- ----------------------------------- 1.3/10.6 MB 2.6 MB/s eta 0:00:04\n",
      "   ----- ---------------------------------- 1.4/10.6 MB 2.7 MB/s eta 0:00:04\n",
      "   ------ --------------------------------- 1.6/10.6 MB 2.7 MB/s eta 0:00:04\n",
      "   ------ --------------------------------- 1.8/10.6 MB 2.9 MB/s eta 0:00:03\n",
      "   ------- -------------------------------- 2.0/10.6 MB 2.9 MB/s eta 0:00:03\n",
      "   -------- ------------------------------- 2.2/10.6 MB 3.0 MB/s eta 0:00:03\n",
      "   -------- ------------------------------- 2.4/10.6 MB 3.1 MB/s eta 0:00:03\n",
      "   --------- ------------------------------ 2.6/10.6 MB 3.2 MB/s eta 0:00:03\n",
      "   ---------- ----------------------------- 2.8/10.6 MB 3.2 MB/s eta 0:00:03\n",
      "   ---------- ----------------------------- 2.8/10.6 MB 3.2 MB/s eta 0:00:03\n",
      "   ------------ --------------------------- 3.2/10.6 MB 3.4 MB/s eta 0:00:03\n",
      "   ------------ --------------------------- 3.3/10.6 MB 3.3 MB/s eta 0:00:03\n",
      "   ------------- -------------------------- 3.5/10.6 MB 3.4 MB/s eta 0:00:03\n",
      "   -------------- ------------------------- 3.8/10.6 MB 3.5 MB/s eta 0:00:02\n",
      "   --------------- ------------------------ 4.0/10.6 MB 3.5 MB/s eta 0:00:02\n",
      "   ---------------- ----------------------- 4.3/10.6 MB 3.6 MB/s eta 0:00:02\n",
      "   ----------------- ---------------------- 4.5/10.6 MB 3.7 MB/s eta 0:00:02\n",
      "   ----------------- ---------------------- 4.8/10.6 MB 3.7 MB/s eta 0:00:02\n",
      "   ------------------ --------------------- 5.0/10.6 MB 3.8 MB/s eta 0:00:02\n",
      "   -------------------- ------------------- 5.4/10.6 MB 3.9 MB/s eta 0:00:02\n",
      "   --------------------- ------------------ 5.6/10.6 MB 4.0 MB/s eta 0:00:02\n",
      "   ---------------------- ----------------- 5.9/10.6 MB 4.0 MB/s eta 0:00:02\n",
      "   ----------------------- ---------------- 6.1/10.6 MB 4.0 MB/s eta 0:00:02\n",
      "   ------------------------ --------------- 6.4/10.6 MB 4.1 MB/s eta 0:00:02\n",
      "   ------------------------- -------------- 6.7/10.6 MB 4.2 MB/s eta 0:00:01\n",
      "   -------------------------- ------------- 7.0/10.6 MB 4.2 MB/s eta 0:00:01\n",
      "   --------------------------- ------------ 7.3/10.6 MB 4.3 MB/s eta 0:00:01\n",
      "   ---------------------------- ----------- 7.6/10.6 MB 4.3 MB/s eta 0:00:01\n",
      "   ----------------------------- ---------- 7.8/10.6 MB 4.3 MB/s eta 0:00:01\n",
      "   ------------------------------ --------- 8.1/10.6 MB 4.4 MB/s eta 0:00:01\n",
      "   ------------------------------- -------- 8.3/10.6 MB 4.4 MB/s eta 0:00:01\n",
      "   -------------------------------- ------- 8.5/10.6 MB 4.4 MB/s eta 0:00:01\n",
      "   -------------------------------- ------- 8.7/10.6 MB 4.4 MB/s eta 0:00:01\n",
      "   --------------------------------- ------ 8.9/10.6 MB 4.4 MB/s eta 0:00:01\n",
      "   ---------------------------------- ----- 9.1/10.6 MB 4.4 MB/s eta 0:00:01\n",
      "   ----------------------------------- ---- 9.3/10.6 MB 4.4 MB/s eta 0:00:01\n",
      "   ----------------------------------- ---- 9.6/10.6 MB 4.4 MB/s eta 0:00:01\n",
      "   ------------------------------------- -- 9.9/10.6 MB 4.4 MB/s eta 0:00:01\n",
      "   ------------------------------------- -- 10.1/10.6 MB 4.5 MB/s eta 0:00:01\n",
      "   -------------------------------------- - 10.4/10.6 MB 4.7 MB/s eta 0:00:01\n",
      "   ---------------------------------------  10.6/10.6 MB 4.9 MB/s eta 0:00:01\n",
      "   ---------------------------------------- 10.6/10.6 MB 4.8 MB/s eta 0:00:00\n",
      "Installing collected packages: scikit-learn\n",
      "  Attempting uninstall: scikit-learn\n",
      "    Found existing installation: scikit-learn 1.3.0\n",
      "    Uninstalling scikit-learn-1.3.0:\n",
      "      Successfully uninstalled scikit-learn-1.3.0\n",
      "Note: you may need to restart the kernel to use updated packages.\n"
     ]
    },
    {
     "name": "stderr",
     "output_type": "stream",
     "text": [
      "ERROR: Could not install packages due to an OSError: [WinError 5] Access is denied: 'C:\\\\Users\\\\imkha\\\\anaconda3\\\\Lib\\\\site-packages\\\\~klearn\\\\datasets\\\\_svmlight_format_fast.cp311-win_amd64.pyd'\n",
      "Consider using the `--user` option or check the permissions.\n",
      "\n"
     ]
    }
   ],
   "source": [
    "pip install --upgrade scikit-learn"
   ]
  },
  {
   "cell_type": "code",
   "execution_count": 2,
   "id": "8c63c0d8",
   "metadata": {},
   "outputs": [],
   "source": [
    "import pandas as pd"
   ]
  },
  {
   "cell_type": "code",
   "execution_count": 3,
   "id": "48f036b8",
   "metadata": {},
   "outputs": [],
   "source": [
    "data=pd.read_csv(\"C:\\\\Users\\\\imkha\\\\Desktop\\\\30 days of ml\\\\Sentiment_analyzer\\\\train.csv\",encoding='Windows-1252')"
   ]
  },
  {
   "cell_type": "markdown",
   "id": "d4054158",
   "metadata": {},
   "source": [
    "# EDA"
   ]
  },
  {
   "cell_type": "code",
   "execution_count": 4,
   "id": "dfcd5f80",
   "metadata": {},
   "outputs": [],
   "source": [
    "import matplotlib.pyplot as plt\n",
    "import seaborn as sb"
   ]
  },
  {
   "cell_type": "code",
   "execution_count": 5,
   "id": "534d63d0",
   "metadata": {},
   "outputs": [],
   "source": [
    "time_mapping={'morning':1,'noon':2,'night':3}\n",
    "data['Time_encoded']=data['Time of Tweet'].map(time_mapping)"
   ]
  },
  {
   "cell_type": "code",
   "execution_count": 6,
   "id": "d484a8f6",
   "metadata": {},
   "outputs": [
    {
     "data": {
      "text/html": [
       "<div>\n",
       "<style scoped>\n",
       "    .dataframe tbody tr th:only-of-type {\n",
       "        vertical-align: middle;\n",
       "    }\n",
       "\n",
       "    .dataframe tbody tr th {\n",
       "        vertical-align: top;\n",
       "    }\n",
       "\n",
       "    .dataframe thead th {\n",
       "        text-align: right;\n",
       "    }\n",
       "</style>\n",
       "<table border=\"1\" class=\"dataframe\">\n",
       "  <thead>\n",
       "    <tr style=\"text-align: right;\">\n",
       "      <th></th>\n",
       "      <th>textID</th>\n",
       "      <th>text</th>\n",
       "      <th>selected_text</th>\n",
       "      <th>sentiment</th>\n",
       "      <th>Time of Tweet</th>\n",
       "      <th>Age of User</th>\n",
       "      <th>Country</th>\n",
       "      <th>Population -2020</th>\n",
       "      <th>Land Area (Km²)</th>\n",
       "      <th>Density (P/Km²)</th>\n",
       "      <th>Time_encoded</th>\n",
       "      <th>age_encoded</th>\n",
       "    </tr>\n",
       "  </thead>\n",
       "  <tbody>\n",
       "    <tr>\n",
       "      <th>0</th>\n",
       "      <td>cb774db0d1</td>\n",
       "      <td>I`d have responded, if I were going</td>\n",
       "      <td>I`d have responded, if I were going</td>\n",
       "      <td>neutral</td>\n",
       "      <td>morning</td>\n",
       "      <td>0-20</td>\n",
       "      <td>Afghanistan</td>\n",
       "      <td>38928346</td>\n",
       "      <td>652860.0</td>\n",
       "      <td>60</td>\n",
       "      <td>1</td>\n",
       "      <td>1</td>\n",
       "    </tr>\n",
       "    <tr>\n",
       "      <th>1</th>\n",
       "      <td>549e992a42</td>\n",
       "      <td>Sooo SAD I will miss you here in San Diego!!!</td>\n",
       "      <td>Sooo SAD</td>\n",
       "      <td>negative</td>\n",
       "      <td>noon</td>\n",
       "      <td>21-30</td>\n",
       "      <td>Albania</td>\n",
       "      <td>2877797</td>\n",
       "      <td>27400.0</td>\n",
       "      <td>105</td>\n",
       "      <td>2</td>\n",
       "      <td>2</td>\n",
       "    </tr>\n",
       "    <tr>\n",
       "      <th>2</th>\n",
       "      <td>088c60f138</td>\n",
       "      <td>my boss is bullying me...</td>\n",
       "      <td>bullying me</td>\n",
       "      <td>negative</td>\n",
       "      <td>night</td>\n",
       "      <td>31-45</td>\n",
       "      <td>Algeria</td>\n",
       "      <td>43851044</td>\n",
       "      <td>2381740.0</td>\n",
       "      <td>18</td>\n",
       "      <td>3</td>\n",
       "      <td>3</td>\n",
       "    </tr>\n",
       "  </tbody>\n",
       "</table>\n",
       "</div>"
      ],
      "text/plain": [
       "       textID                                            text  \\\n",
       "0  cb774db0d1             I`d have responded, if I were going   \n",
       "1  549e992a42   Sooo SAD I will miss you here in San Diego!!!   \n",
       "2  088c60f138                       my boss is bullying me...   \n",
       "\n",
       "                         selected_text sentiment Time of Tweet Age of User  \\\n",
       "0  I`d have responded, if I were going   neutral       morning        0-20   \n",
       "1                             Sooo SAD  negative          noon       21-30   \n",
       "2                          bullying me  negative         night       31-45   \n",
       "\n",
       "       Country  Population -2020  Land Area (Km²)  Density (P/Km²)  \\\n",
       "0  Afghanistan          38928346         652860.0               60   \n",
       "1      Albania           2877797          27400.0              105   \n",
       "2      Algeria          43851044        2381740.0               18   \n",
       "\n",
       "   Time_encoded  age_encoded  \n",
       "0             1            1  \n",
       "1             2            2  \n",
       "2             3            3  "
      ]
     },
     "execution_count": 6,
     "metadata": {},
     "output_type": "execute_result"
    }
   ],
   "source": [
    "age_mapping={'0-20':1,'21-30':2,'31-45':3,'46-60':4,'60-70':5,'70-100':6}\n",
    "data['age_encoded']=data['Age of User'].map(age_mapping)\n",
    "data.head(3)"
   ]
  },
  {
   "cell_type": "code",
   "execution_count": null,
   "id": "aed56cdc",
   "metadata": {},
   "outputs": [],
   "source": []
  },
  {
   "cell_type": "code",
   "execution_count": null,
   "id": "faf4aac4",
   "metadata": {},
   "outputs": [],
   "source": []
  },
  {
   "cell_type": "code",
   "execution_count": null,
   "id": "d43345a7",
   "metadata": {},
   "outputs": [],
   "source": []
  },
  {
   "cell_type": "markdown",
   "id": "b97379bc",
   "metadata": {},
   "source": [
    "# data preprocessing"
   ]
  },
  {
   "cell_type": "code",
   "execution_count": 7,
   "id": "2149c096",
   "metadata": {},
   "outputs": [],
   "source": [
    "from sklearn.ensemble import RandomForestClassifier,VotingClassifier\n",
    "from sklearn.neural_network import MLPClassifier\n",
    "from sklearn.naive_bayes import ClassifierMixin\n",
    "from sklearn.svm import SVC\n",
    "from sklearn.tree import DecisionTreeClassifier\n",
    "import re\n",
    "from nltk.corpus import stopwords\n",
    "from nltk.stem.porter import PorterStemmer\n",
    "from sklearn.feature_extraction.text import TfidfVectorizer"
   ]
  },
  {
   "cell_type": "markdown",
   "id": "48b3af5c",
   "metadata": {},
   "source": [
    "## Imputing"
   ]
  },
  {
   "cell_type": "code",
   "execution_count": 8,
   "id": "4a0203a8",
   "metadata": {},
   "outputs": [
    {
     "data": {
      "text/plain": [
       "textID              0\n",
       "text                1\n",
       "selected_text       1\n",
       "sentiment           0\n",
       "Time of Tweet       0\n",
       "Age of User         0\n",
       "Country             0\n",
       "Population -2020    0\n",
       "Land Area (Km²)     0\n",
       "Density (P/Km²)     0\n",
       "Time_encoded        0\n",
       "age_encoded         0\n",
       "dtype: int64"
      ]
     },
     "execution_count": 8,
     "metadata": {},
     "output_type": "execute_result"
    }
   ],
   "source": [
    "data.isnull().sum()"
   ]
  },
  {
   "cell_type": "code",
   "execution_count": 9,
   "id": "0889c18a",
   "metadata": {},
   "outputs": [
    {
     "data": {
      "text/plain": [
       "textID              0\n",
       "text                0\n",
       "selected_text       0\n",
       "sentiment           0\n",
       "Time of Tweet       0\n",
       "Age of User         0\n",
       "Country             0\n",
       "Population -2020    0\n",
       "Land Area (Km²)     0\n",
       "Density (P/Km²)     0\n",
       "Time_encoded        0\n",
       "age_encoded         0\n",
       "dtype: int64"
      ]
     },
     "execution_count": 9,
     "metadata": {},
     "output_type": "execute_result"
    }
   ],
   "source": [
    "from sklearn.impute import SimpleImputer\n",
    "imputer=SimpleImputer(fill_value='',strategy='constant')\n",
    "data=pd.DataFrame(imputer.fit_transform(data),columns=data.columns)\n",
    "data.isnull().sum()"
   ]
  },
  {
   "cell_type": "markdown",
   "id": "71054b74",
   "metadata": {},
   "source": [
    "## Stemming, Removing Stopwords"
   ]
  },
  {
   "cell_type": "code",
   "execution_count": null,
   "id": "0bf1c1ba",
   "metadata": {},
   "outputs": [],
   "source": []
  },
  {
   "cell_type": "code",
   "execution_count": 10,
   "id": "c817a641",
   "metadata": {},
   "outputs": [],
   "source": [
    "port_stem = PorterStemmer()\n",
    "def stemming(content):\n",
    "    stemmed_content = re.sub('[^a-zA-Z]',' ',content)\n",
    "    stemmed_content = stemmed_content.lower()\n",
    "    stemmed_content = stemmed_content.split()\n",
    "    stemmed_content = [port_stem.stem(word) for word in stemmed_content if not word in stopwords.words('english')]\n",
    "    stemmed_content = ' '.join(stemmed_content)\n",
    "    return stemmed_content"
   ]
  },
  {
   "cell_type": "code",
   "execution_count": 11,
   "id": "75fa7223",
   "metadata": {},
   "outputs": [
    {
     "data": {
      "text/html": [
       "<div>\n",
       "<style scoped>\n",
       "    .dataframe tbody tr th:only-of-type {\n",
       "        vertical-align: middle;\n",
       "    }\n",
       "\n",
       "    .dataframe tbody tr th {\n",
       "        vertical-align: top;\n",
       "    }\n",
       "\n",
       "    .dataframe thead th {\n",
       "        text-align: right;\n",
       "    }\n",
       "</style>\n",
       "<table border=\"1\" class=\"dataframe\">\n",
       "  <thead>\n",
       "    <tr style=\"text-align: right;\">\n",
       "      <th></th>\n",
       "      <th>textID</th>\n",
       "      <th>text</th>\n",
       "      <th>selected_text</th>\n",
       "      <th>sentiment</th>\n",
       "      <th>Time of Tweet</th>\n",
       "      <th>Age of User</th>\n",
       "      <th>Country</th>\n",
       "      <th>Population -2020</th>\n",
       "      <th>Land Area (Km²)</th>\n",
       "      <th>Density (P/Km²)</th>\n",
       "      <th>Time_encoded</th>\n",
       "      <th>age_encoded</th>\n",
       "      <th>content</th>\n",
       "    </tr>\n",
       "  </thead>\n",
       "  <tbody>\n",
       "    <tr>\n",
       "      <th>0</th>\n",
       "      <td>cb774db0d1</td>\n",
       "      <td>I`d have responded, if I were going</td>\n",
       "      <td>I`d have responded, if I were going</td>\n",
       "      <td>neutral</td>\n",
       "      <td>morning</td>\n",
       "      <td>0-20</td>\n",
       "      <td>Afghanistan</td>\n",
       "      <td>38928346</td>\n",
       "      <td>652860.0</td>\n",
       "      <td>60</td>\n",
       "      <td>1</td>\n",
       "      <td>1</td>\n",
       "      <td>respond go</td>\n",
       "    </tr>\n",
       "    <tr>\n",
       "      <th>1</th>\n",
       "      <td>549e992a42</td>\n",
       "      <td>Sooo SAD I will miss you here in San Diego!!!</td>\n",
       "      <td>Sooo SAD</td>\n",
       "      <td>negative</td>\n",
       "      <td>noon</td>\n",
       "      <td>21-30</td>\n",
       "      <td>Albania</td>\n",
       "      <td>2877797</td>\n",
       "      <td>27400.0</td>\n",
       "      <td>105</td>\n",
       "      <td>2</td>\n",
       "      <td>2</td>\n",
       "      <td>sooo sad</td>\n",
       "    </tr>\n",
       "    <tr>\n",
       "      <th>2</th>\n",
       "      <td>088c60f138</td>\n",
       "      <td>my boss is bullying me...</td>\n",
       "      <td>bullying me</td>\n",
       "      <td>negative</td>\n",
       "      <td>night</td>\n",
       "      <td>31-45</td>\n",
       "      <td>Algeria</td>\n",
       "      <td>43851044</td>\n",
       "      <td>2381740.0</td>\n",
       "      <td>18</td>\n",
       "      <td>3</td>\n",
       "      <td>3</td>\n",
       "      <td>bulli</td>\n",
       "    </tr>\n",
       "    <tr>\n",
       "      <th>3</th>\n",
       "      <td>9642c003ef</td>\n",
       "      <td>what interview! leave me alone</td>\n",
       "      <td>leave me alone</td>\n",
       "      <td>negative</td>\n",
       "      <td>morning</td>\n",
       "      <td>46-60</td>\n",
       "      <td>Andorra</td>\n",
       "      <td>77265</td>\n",
       "      <td>470.0</td>\n",
       "      <td>164</td>\n",
       "      <td>1</td>\n",
       "      <td>4</td>\n",
       "      <td>leav alon</td>\n",
       "    </tr>\n",
       "    <tr>\n",
       "      <th>4</th>\n",
       "      <td>358bd9e861</td>\n",
       "      <td>Sons of ****, why couldn`t they put them on t...</td>\n",
       "      <td>Sons of ****,</td>\n",
       "      <td>negative</td>\n",
       "      <td>noon</td>\n",
       "      <td>60-70</td>\n",
       "      <td>Angola</td>\n",
       "      <td>32866272</td>\n",
       "      <td>1246700.0</td>\n",
       "      <td>26</td>\n",
       "      <td>2</td>\n",
       "      <td>5</td>\n",
       "      <td>son</td>\n",
       "    </tr>\n",
       "  </tbody>\n",
       "</table>\n",
       "</div>"
      ],
      "text/plain": [
       "       textID                                               text  \\\n",
       "0  cb774db0d1                I`d have responded, if I were going   \n",
       "1  549e992a42      Sooo SAD I will miss you here in San Diego!!!   \n",
       "2  088c60f138                          my boss is bullying me...   \n",
       "3  9642c003ef                     what interview! leave me alone   \n",
       "4  358bd9e861   Sons of ****, why couldn`t they put them on t...   \n",
       "\n",
       "                         selected_text sentiment Time of Tweet Age of User  \\\n",
       "0  I`d have responded, if I were going   neutral       morning        0-20   \n",
       "1                             Sooo SAD  negative          noon       21-30   \n",
       "2                          bullying me  negative         night       31-45   \n",
       "3                       leave me alone  negative       morning       46-60   \n",
       "4                        Sons of ****,  negative          noon       60-70   \n",
       "\n",
       "       Country Population -2020 Land Area (Km²) Density (P/Km²) Time_encoded  \\\n",
       "0  Afghanistan         38928346        652860.0              60            1   \n",
       "1      Albania          2877797         27400.0             105            2   \n",
       "2      Algeria         43851044       2381740.0              18            3   \n",
       "3      Andorra            77265           470.0             164            1   \n",
       "4       Angola         32866272       1246700.0              26            2   \n",
       "\n",
       "  age_encoded     content  \n",
       "0           1  respond go  \n",
       "1           2    sooo sad  \n",
       "2           3       bulli  \n",
       "3           4   leav alon  \n",
       "4           5         son  "
      ]
     },
     "execution_count": 11,
     "metadata": {},
     "output_type": "execute_result"
    }
   ],
   "source": [
    "data['content']=data['selected_text'].apply(stemming)\n",
    "data.head()"
   ]
  },
  {
   "cell_type": "code",
   "execution_count": 12,
   "id": "d2a3437a",
   "metadata": {},
   "outputs": [],
   "source": [
    "selected_features=['selected_text','Time_encoded','age_encoded']\n",
    "target_feature='sentiment'"
   ]
  },
  {
   "cell_type": "code",
   "execution_count": 13,
   "id": "38d3c145",
   "metadata": {},
   "outputs": [
    {
     "data": {
      "text/plain": [
       "<27481x13290 sparse matrix of type '<class 'numpy.float64'>'\n",
       "\twith 105974 stored elements in Compressed Sparse Row format>"
      ]
     },
     "execution_count": 13,
     "metadata": {},
     "output_type": "execute_result"
    }
   ],
   "source": [
    "vectorizer=TfidfVectorizer()\n",
    "X = vectorizer.fit_transform(data['content'])\n",
    "\n",
    "X"
   ]
  },
  {
   "cell_type": "code",
   "execution_count": 14,
   "id": "0766539c",
   "metadata": {},
   "outputs": [],
   "source": [
    "Y=data[target_feature].values"
   ]
  },
  {
   "cell_type": "code",
   "execution_count": 15,
   "id": "5127ce0a",
   "metadata": {},
   "outputs": [],
   "source": [
    "from sklearn.model_selection import train_test_split\n",
    "X_train,X_test,Y_train,Y_test=train_test_split(X,Y,test_size=0.2,stratify=Y)"
   ]
  },
  {
   "cell_type": "code",
   "execution_count": 16,
   "id": "a90adcf6",
   "metadata": {},
   "outputs": [],
   "source": [
    "clf=SVC()"
   ]
  },
  {
   "cell_type": "code",
   "execution_count": 17,
   "id": "5e24df52",
   "metadata": {},
   "outputs": [],
   "source": [
    "from sklearn.metrics import accuracy_score,r2_score,confusion_matrix"
   ]
  },
  {
   "cell_type": "code",
   "execution_count": 18,
   "id": "268cd11b",
   "metadata": {},
   "outputs": [],
   "source": [
    "clf.fit(X_train,Y_train)\n",
    "Y_pred=clf.predict(X_test)"
   ]
  },
  {
   "cell_type": "code",
   "execution_count": 19,
   "id": "c6af79a5",
   "metadata": {},
   "outputs": [
    {
     "name": "stdout",
     "output_type": "stream",
     "text": [
      "0.8104420593050755\n",
      "[[1061  433   62]\n",
      " [ 102 2051   71]\n",
      " [  52  322 1343]]\n"
     ]
    }
   ],
   "source": [
    "print(accuracy_score(Y_test,Y_pred))\n",
    "print(confusion_matrix(Y_test,Y_pred))"
   ]
  },
  {
   "cell_type": "code",
   "execution_count": 20,
   "id": "9861a882",
   "metadata": {},
   "outputs": [
    {
     "name": "stdout",
     "output_type": "stream",
     "text": [
      "Enter text:this phone is so laggy\n",
      "['neutral']\n"
     ]
    }
   ],
   "source": [
    "text_input = input('Enter text:')\n",
    "text_input = stemming(text_input)\n",
    "\n",
    "# Convert the single string into a list before fitting\n",
    "vectorized_input = vectorizer.transform([text_input])\n",
    "\n",
    "# Now you can use the vectorized input to make predictions\n",
    "prediction = clf.predict(vectorized_input)\n",
    "print(prediction)"
   ]
  },
  {
   "cell_type": "code",
   "execution_count": 21,
   "id": "7c40eea5",
   "metadata": {},
   "outputs": [],
   "source": [
    "import pickle"
   ]
  },
  {
   "cell_type": "code",
   "execution_count": 22,
   "id": "d26db640",
   "metadata": {},
   "outputs": [],
   "source": [
    "pickle.dump(clf,open('C:\\\\Users\\\\imkha\\\\Desktop\\\\30 days of ml\\\\Sentiment_analyzer\\\\model.sav','wb'))"
   ]
  },
  {
   "cell_type": "code",
   "execution_count": 23,
   "id": "2ddc17a0",
   "metadata": {},
   "outputs": [],
   "source": [
    "pickle.dump(vectorizer,open('C:\\\\Users\\\\imkha\\\\Desktop\\\\30 days of ml\\\\Sentiment_analyzer\\\\vectorizer_model.sav','wb'))"
   ]
  },
  {
   "cell_type": "code",
   "execution_count": null,
   "id": "bae819bf",
   "metadata": {},
   "outputs": [],
   "source": []
  }
 ],
 "metadata": {
  "kernelspec": {
   "display_name": "Python 3 (ipykernel)",
   "language": "python",
   "name": "python3"
  },
  "language_info": {
   "codemirror_mode": {
    "name": "ipython",
    "version": 3
   },
   "file_extension": ".py",
   "mimetype": "text/x-python",
   "name": "python",
   "nbconvert_exporter": "python",
   "pygments_lexer": "ipython3",
   "version": "3.11.5"
  }
 },
 "nbformat": 4,
 "nbformat_minor": 5
}
